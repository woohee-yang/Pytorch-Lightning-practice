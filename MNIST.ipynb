{
 "cells": [
  {
   "cell_type": "markdown",
   "id": "8a73b9e0",
   "metadata": {},
   "source": [
    "# OSSCA : PyTorch Lightning 참가 과제\n",
    "\n",
    "2. 지원동기 및 제안\n",
    "3. Basic MNIST Model\n",
    "4. LitMNIST Model\n",
    "\n",
    "+ 참고자료 : PyTorch Lightning 공식 MNIST 예제\n",
    "\n",
    "https://pytorch-lightning.readthedocs.io/en/latest/notebooks/lightning_examples/mnist-hello-world.html"
   ]
  },
  {
   "cell_type": "markdown",
   "id": "4374082a",
   "metadata": {},
   "source": [
    "# 지원동기 및 제안\n",
    "\n",
    "파이토치를 이용하여 석사 논문을 완성하며 신뢰도 높은 결과를 보이려면 파이토치 라이트닝과 같은 라이브러리의 필요성을 절실히 느꼈습니다.\n",
    "같은 파이토치를 사용하더라도 각자의 코드 스타일로 인해 트레이닝, 테스팅, 로깅, 시각화 등과 같은 기능들이 정리되지 않은 코드들이 많았습니다. 이러한 코드들을 이해하고 재사용하거나 테스트하는 과정에서 시간 낭비를 초래했습니다. 딥러닝 연구개발이 더욱 활성화되고 더 낮은 진입장벽으로 더 훌륭한 아이디어를 발굴하기 위해서 이 같은 문제를 덜어야 한다고 생각합니다.\n",
    "\n",
    "본 프로젝트에 참여하기 위해 처음 마주한 파이토치 라이트닝은 앞선 문제를 가장 효율적으로 해결하고 있다 생각합니다. 특히 Trainer를 통한 빠르게 테스트할 수 있는 기능, 콜백 함수를 이용한 간단한 추가 기능, 무엇보다 구조화된 딥러닝 학습 등이 과제를 통해 가장 매력적이라 여겼습니다. \n",
    "\n",
    "하지만 약간 아쉬운 부분은 다양한 하이퍼파라미터를 이용한 학습 및 테스트가 간단하고 유연하게 작동할 수 있도록 yaml 형식으로 파라미터를 읽어 학습을 할 수 있었으면 합니다. 현재는 모델에서 save_hyperparameters() 함수로 사용된 파라미터들을 checkpoint와 yaml파일을 생성해주고 load시에 이 파일들을 읽어 이전 파라미터들과 학습결과를 그대로 이용할 수 있습니다. 이는 첫 학습시에 적용되지 않으며 처음에는 파라미터들을 일일히 add_argument로 추가해주기 때문에 이 부분의 수고를 덜고 체계적인 파라미터 입력이 있었으면 합니다.\n",
    "\n",
    "본 프로젝트에 참여하면 위와 같은 간단한 편의기능부터 제안하고 구현해보고 나아가 프로젝트가 끝나더라도 파이토치 라이트닝의 꾸준한 기여자가 되고자 합니다. 현재 오픈소스 프로젝트 참여 경험은 없지만, 딥러닝 연구 경험을 바탕으로 본 프로젝트가 말하는 핵심가치인 One less thing to remember를 지킬 수 있도록 노력하겠습니다."
   ]
  },
  {
   "cell_type": "code",
   "execution_count": 1,
   "id": "cffdff2c",
   "metadata": {
    "ExecuteTime": {
     "end_time": "2022-06-21T08:03:17.308024Z",
     "start_time": "2022-06-21T08:03:14.867130Z"
    }
   },
   "outputs": [
    {
     "name": "stderr",
     "output_type": "stream",
     "text": [
      "/Users/why/opt/anaconda3/envs/torch/lib/python3.10/site-packages/tqdm/auto.py:22: TqdmWarning: IProgress not found. Please update jupyter and ipywidgets. See https://ipywidgets.readthedocs.io/en/stable/user_install.html\n",
      "  from .autonotebook import tqdm as notebook_tqdm\n",
      "/var/folders/w4/773thtjx3bb6q09bz3s9j9x80000gn/T/ipykernel_10425/922065957.py:5: DeprecationWarning: Importing display from IPython.core.display is deprecated since IPython 7.14, please import from IPython display\n",
      "  from IPython.core.display import display\n"
     ]
    }
   ],
   "source": [
    "import os\n",
    "import pandas as pd\n",
    "import seaborn as sn\n",
    "import torch\n",
    "from IPython.core.display import display\n",
    "from pytorch_lightning import LightningModule, Trainer\n",
    "from pytorch_lightning.callbacks.progress import TQDMProgressBar\n",
    "from pytorch_lightning.loggers import CSVLogger\n",
    "from torch import nn\n",
    "from torch.nn import functional as F\n",
    "from torch.utils.data import DataLoader, random_split\n",
    "from torchmetrics import Accuracy\n",
    "from torchvision import transforms\n",
    "from torchvision.datasets import MNIST\n",
    "\n",
    "PATH_DATASETS = os.environ.get(\"PATH_DATASETS\", \".\")\n",
    "BATCH_SIZE = 256 if torch.cuda.is_available() else 64"
   ]
  },
  {
   "cell_type": "markdown",
   "id": "76fdadff",
   "metadata": {},
   "source": [
    "# Basic MNIST Model\n",
    "\n",
    "- 트레이닝만 하는 간단한 모델\n",
    "- MNISTModel 클래스는 LightningModule 클래스를 상속하여 Trainer를 사용할 수 있게한다.\n",
    "- traning_step(batch, batch_idx): 훈련시 매 에폭마다 수행할 기능 추가 (batch : 배치 데이터, batch_idx : 배치 인덱스)\n",
    "- configure_optimizers() : 훈련시 사용할 최적화함수 리턴"
   ]
  },
  {
   "cell_type": "code",
   "execution_count": 11,
   "id": "434aa24d",
   "metadata": {
    "ExecuteTime": {
     "end_time": "2022-06-21T09:22:04.625014Z",
     "start_time": "2022-06-21T09:22:04.609886Z"
    }
   },
   "outputs": [],
   "source": [
    "class MNISTModel(LightningModule):\n",
    "    def __init__(self):\n",
    "        super().__init__()\n",
    "        self.l1 = torch.nn.Linear(28*28, 10)\n",
    "        \n",
    "    def forward(self, x):\n",
    "        return torch.relu(self.l1(x.view(x.size(0), -1)))\n",
    "    \n",
    "    def training_step(self, batch, batch_idx):\n",
    "        x, y = batch\n",
    "        loss = F.cross_entropy(self(x), y)\n",
    "        return loss\n",
    "    \n",
    "    def configure_optimizers(self):\n",
    "        return torch.optim.Adam(self.parameters(), lr=0.02)"
   ]
  },
  {
   "cell_type": "code",
   "execution_count": 14,
   "id": "1c3e43e2",
   "metadata": {
    "ExecuteTime": {
     "end_time": "2022-06-21T09:29:57.758367Z",
     "start_time": "2022-06-21T09:29:50.782384Z"
    }
   },
   "outputs": [
    {
     "name": "stderr",
     "output_type": "stream",
     "text": [
      "GPU available: False, used: False\n",
      "TPU available: False, using: 0 TPU cores\n",
      "IPU available: False, using: 0 IPUs\n",
      "HPU available: False, using: 0 HPUs\n",
      "\n",
      "  | Name | Type   | Params\n",
      "--------------------------------\n",
      "0 | l1   | Linear | 7.9 K \n",
      "--------------------------------\n",
      "7.9 K     Trainable params\n",
      "0         Non-trainable params\n",
      "7.9 K     Total params\n",
      "0.031     Total estimated model params size (MB)\n"
     ]
    },
    {
     "name": "stdout",
     "output_type": "stream",
     "text": [
      "Epoch 2: 100%|████████████████████████████████████████████████████████████████████████████████| 938/938 [00:02<00:00, 415.98it/s, loss=0.484, v_num=4]\n"
     ]
    }
   ],
   "source": [
    "mnist_model = MNISTModel()\n",
    "\n",
    "# 데이터로드\n",
    "train_ds = MNIST(PATH_DATASETS, train=True, download=True, transform=transforms.ToTensor())\n",
    "train_loader = DataLoader(train_ds, batch_size = BATCH_SIZE)\n",
    "\n",
    "# Trainer 인스턴스 생성\n",
    "#  accelerator: CPU, GPU, TPU, IPU 중 훈련에 사용할 장비 선택, auto : 자동설정, GPU가 존재하면 GPU를 사용\n",
    "#  devices : 사용할 accelerator 개수\n",
    "#  max_epochs : 최대 에폭 수\n",
    "# callbacks : 훈련 중 체크포인트에 도달하여 실행될 콜백 함수 목록, 현재는 TQDMProgressBar로 훈련 진행률 보여줌\n",
    "trainer = Trainer(\n",
    "    accelerator=\"auto\",\n",
    "    devices = 1 if torch.cuda.is_available() else None,\n",
    "    max_epochs = 3,\n",
    "    callbacks = [TQDMProgressBar(refresh_rate=20)],\n",
    ")\n",
    "\n",
    "# 훈련 실행\n",
    "trainer.fit(mnist_model, train_loader)"
   ]
  },
  {
   "cell_type": "markdown",
   "id": "9ea37a23",
   "metadata": {},
   "source": [
    "# LitMNIST Model\n",
    "\n",
    "- 훈련 모델정의, 훈련, 검증, 테스트, 데이터로드 까지 모두하는 클래스\n",
    "- traing_step : 기본 모델과 크게 다르지 않다. 입력 데이터 x를 신경망에 입력하여 결과 logit을 얻어 정답 y와 비교하여 loss 계산\n",
    "- validation_step : 모델을 학습하여 업데이트 하지 않고 검증데이터로 정확도를 측정하는 함수, loss와 acc를 모두 기록한다.\n",
    "  preds는 검증 데이터를 모델에 입력한 결과이며 이를 정답 y와 비교하여 현재 모델의 accuracy와 loss를 계산한다.\n",
    "- test_step : 모델 테스트 함수, validation_step과 동일한 기능을 하지만 테스트 데이터는 훈련과 검증단계에서 전혀 사용되지 않은 미지의 데이터이다.\n",
    "- prepare_data : 사용한 데이터 준비, 현재는 MNIST 데이터의 훈련용과 검증 및 테스트용을 다운로드 받는다.\n",
    "- setup : 훈련 및 검증 과정인지 테스트 과정인지 stage 파라미터로 구별하여 각 과정에 맞게 데이터를 로드하여 셋팅한다.\n",
    "- train_dataloader / val_dataloader / test_dataloader : 각각 훈련 / 검증 / 테스트에 사용될 데이터를 PyTorch의 DataLoader 객체에 입력하여 데이터로더를 만든다."
   ]
  },
  {
   "cell_type": "code",
   "execution_count": 16,
   "id": "1a53c18e",
   "metadata": {
    "ExecuteTime": {
     "end_time": "2022-06-21T09:44:49.937677Z",
     "start_time": "2022-06-21T09:44:49.913691Z"
    }
   },
   "outputs": [],
   "source": [
    "class LitMNIST(LightningModule):\n",
    "    def __init__(self, data_dir=PATH_DATASETS, hidden_size=64, learning_rate=2e-4):\n",
    "        super().__init__()\n",
    "        \n",
    "        self.data_dir = data_dir\n",
    "        self.hidden_size = hidden_size\n",
    "        self.learning_rate = learning_rate\n",
    "        \n",
    "        self.num_classes=10\n",
    "        self.dims = (1, 28, 28)\n",
    "        channels, width, height = self.dims\n",
    "        self.transform = transforms.Compose(\n",
    "            [\n",
    "                transforms.ToTensor(),\n",
    "                transforms.Normalize((0.1307,), (0.3081,)),\n",
    "            ]\n",
    "        )\n",
    "        \n",
    "        self.model = nn.Sequential(\n",
    "            nn.Flatten(),\n",
    "            nn.Linear(channels * width * height, hidden_size),\n",
    "            nn.ReLU(),\n",
    "            nn.Dropout(0.1),\n",
    "            nn.Linear(hidden_size, hidden_size),\n",
    "            nn.ReLU(),\n",
    "            nn.Dropout(0.1),\n",
    "            nn.Linear(hidden_size, self.num_classes),\n",
    "        )\n",
    "        \n",
    "        self.val_accuracy = Accuracy()\n",
    "        self.test_accuracy = Accuracy()\n",
    "    \n",
    "    def forward(self, x):\n",
    "        x = self.model(x)\n",
    "        return F.log_softmax(x, dim=1)\n",
    "    \n",
    "    def training_step(self, batch, batch_idx):\n",
    "        x, y = batch\n",
    "        logits = self(x)\n",
    "        loss = F.nll_loss(logits, y)\n",
    "        return loss\n",
    "    \n",
    "    def validation_step(self, batch, batch_idx):\n",
    "        x, y = batch\n",
    "        logits = self(x)\n",
    "        loss = F.nll_loss(logits, y)\n",
    "        preds = torch.argmax(logits, dim=1)\n",
    "        self.val_accuracy.update(preds, y)\n",
    "        \n",
    "        self.log(\"val_loss\", loss, prog_bar=True)\n",
    "        self.log(\"val_acc\", self.val_accuracy, prog_bar=True)\n",
    "    \n",
    "    def test_step(self, batch, batch_idx):\n",
    "        x, y = batch\n",
    "        logits = self(x)\n",
    "        loss = F.nll_loss(logits, y)\n",
    "        preds = torch.argmax(logits, dim=1)\n",
    "        self.test_accuracy.update(preds, y)\n",
    "        \n",
    "        self.log(\"test_loss\", loss, prog_bar=True)\n",
    "        self.log(\"test_acc\", self.test_accuracy, prog_bar=True)\n",
    "        \n",
    "    def configure_optimizers(self):\n",
    "        optimizer = torch.optim.Adam(self.parameters(), lr=self.learning_rate)\n",
    "        return optimizer\n",
    "    \n",
    "    def prepare_data(self):\n",
    "        MNIST(self.data_dir, train=True, download=True)\n",
    "        MNIST(self.data_dir, train=False, download=True)\n",
    "    \n",
    "    def setup(self, stage=None):\n",
    "        if stage == \"fit\" or stage is None:\n",
    "            mnist_full = MNIST(self.data_dir, train=True, transform=self.transform)\n",
    "            self.mnist_train, self.mnist_val = random_split(mnist_full, [55000, 5000])\n",
    "            \n",
    "        if stage == \"test\" or stage is None:\n",
    "            self.mnist_test = MNIST(self.data_dir, train=False, transform=self.transform)\n",
    "            \n",
    "    def train_dataloader(self):\n",
    "        return DataLoader(self.mnist_train, batch_size=BATCH_SIZE)\n",
    "    \n",
    "    def val_dataloader(self):\n",
    "        return DataLoader(self.mnist_val, batch_size=BATCH_SIZE)\n",
    "    \n",
    "    def test_dataloader(self):\n",
    "        return DataLoader(self.mnist_test, batch_size=BATCH_SIZE)\n",
    "    "
   ]
  },
  {
   "cell_type": "code",
   "execution_count": 17,
   "id": "7286a09a",
   "metadata": {
    "ExecuteTime": {
     "end_time": "2022-06-21T09:45:08.910301Z",
     "start_time": "2022-06-21T09:44:50.916738Z"
    }
   },
   "outputs": [
    {
     "name": "stderr",
     "output_type": "stream",
     "text": [
      "GPU available: False, used: False\n",
      "TPU available: False, using: 0 TPU cores\n",
      "IPU available: False, using: 0 IPUs\n",
      "HPU available: False, using: 0 HPUs\n",
      "\n",
      "  | Name          | Type       | Params\n",
      "---------------------------------------------\n",
      "0 | model         | Sequential | 55.1 K\n",
      "1 | val_accuracy  | Accuracy   | 0     \n",
      "2 | test_accuracy | Accuracy   | 0     \n",
      "---------------------------------------------\n",
      "55.1 K    Trainable params\n",
      "0         Non-trainable params\n",
      "55.1 K    Total params\n",
      "0.220     Total estimated model params size (MB)\n"
     ]
    },
    {
     "name": "stdout",
     "output_type": "stream",
     "text": [
      "                                                                                                                                                      "
     ]
    },
    {
     "name": "stderr",
     "output_type": "stream",
     "text": [
      "/Users/why/opt/anaconda3/envs/torch/lib/python3.10/site-packages/pytorch_lightning/trainer/connectors/data_connector.py:240: PossibleUserWarning: The dataloader, val_dataloader 0, does not have many workers which may be a bottleneck. Consider increasing the value of the `num_workers` argument` (try 8 which is the number of cpus on this machine) in the `DataLoader` init to improve performance.\n",
      "  rank_zero_warn(\n"
     ]
    },
    {
     "name": "stdout",
     "output_type": "stream",
     "text": [
      "Epoch 0:  92%|█████████████████████████████████████████████████████████████████████████▎      | 860/939 [00:03<00:00, 253.65it/s, loss=0.356, v_num=2]\n",
      "Validation: 0it [00:00, ?it/s]\u001b[A\n",
      "Validation:   0%|                                                                                                              | 0/79 [00:00<?, ?it/s]\u001b[A\n",
      "Validation DataLoader 0:   0%|                                                                                                 | 0/79 [00:00<?, ?it/s]\u001b[A\n",
      "Epoch 0:  94%|██████████████████████████████████████████████████████████████████████████▉     | 880/939 [00:03<00:00, 253.96it/s, loss=0.356, v_num=2]\u001b[A\n",
      "Validation DataLoader 0:  51%|████████████████████████████████████████████                                           | 40/79 [00:00<00:00, 294.70it/s]\u001b[A\n",
      "Epoch 0:  96%|████████████████████████████████████████████████████████████████████████████▋   | 900/939 [00:03<00:00, 254.67it/s, loss=0.356, v_num=2]\u001b[A\n",
      "Epoch 0:  98%|██████████████████████████████████████████████████████████████████████████████▍ | 920/939 [00:03<00:00, 255.13it/s, loss=0.356, v_num=2]\u001b[A\n",
      "Validation DataLoader 0: 100%|███████████████████████████████████████████████████████████████████████████████████████| 79/79 [00:00<00:00, 292.60it/s]\u001b[A\n",
      "Epoch 0: 100%|█████████████████████████████████████████████████| 939/939 [00:03<00:00, 255.74it/s, loss=0.356, v_num=2, val_loss=0.270, val_acc=0.921]\u001b[A\n",
      "Epoch 1:  92%|████████████████████████████████████████████▉    | 860/939 [00:03<00:00, 256.73it/s, loss=0.266, v_num=2, val_loss=0.270, val_acc=0.921]\u001b[A\n",
      "Validation: 0it [00:00, ?it/s]\u001b[A\n",
      "Validation:   0%|                                                                                                              | 0/79 [00:00<?, ?it/s]\u001b[A\n",
      "Validation DataLoader 0:   0%|                                                                                                 | 0/79 [00:00<?, ?it/s]\u001b[A\n",
      "Epoch 1:  94%|█████████████████████████████████████████████▉   | 880/939 [00:03<00:00, 256.86it/s, loss=0.266, v_num=2, val_loss=0.270, val_acc=0.921]\u001b[A\n",
      "Validation DataLoader 0:  51%|████████████████████████████████████████████                                           | 40/79 [00:00<00:00, 296.86it/s]\u001b[A\n",
      "Epoch 1:  96%|██████████████████████████████████████████████▉  | 900/939 [00:03<00:00, 257.76it/s, loss=0.266, v_num=2, val_loss=0.270, val_acc=0.921]\u001b[A\n",
      "Epoch 1:  98%|████████████████████████████████████████████████ | 920/939 [00:03<00:00, 258.30it/s, loss=0.266, v_num=2, val_loss=0.270, val_acc=0.921]\u001b[A\n",
      "Validation DataLoader 0: 100%|███████████████████████████████████████████████████████████████████████████████████████| 79/79 [00:00<00:00, 300.62it/s]\u001b[A\n",
      "Epoch 1: 100%|█████████████████████████████████████████████████| 939/939 [00:03<00:00, 259.23it/s, loss=0.266, v_num=2, val_loss=0.207, val_acc=0.941]\u001b[A\n",
      "Epoch 2:  92%|████████████████████████████████████████████▉    | 860/939 [00:03<00:00, 257.63it/s, loss=0.236, v_num=2, val_loss=0.207, val_acc=0.941]\u001b[A\n",
      "Validation: 0it [00:00, ?it/s]\u001b[A\n",
      "Validation:   0%|                                                                                                              | 0/79 [00:00<?, ?it/s]\u001b[A\n",
      "Validation DataLoader 0:   0%|                                                                                                 | 0/79 [00:00<?, ?it/s]\u001b[A\n",
      "Epoch 2:  94%|█████████████████████████████████████████████▉   | 880/939 [00:03<00:00, 257.96it/s, loss=0.236, v_num=2, val_loss=0.207, val_acc=0.941]\u001b[A\n",
      "Validation DataLoader 0:  51%|████████████████████████████████████████████                                           | 40/79 [00:00<00:00, 293.19it/s]\u001b[A\n",
      "Epoch 2:  96%|██████████████████████████████████████████████▉  | 900/939 [00:03<00:00, 258.46it/s, loss=0.236, v_num=2, val_loss=0.207, val_acc=0.941]\u001b[A\n",
      "Epoch 2:  98%|████████████████████████████████████████████████ | 920/939 [00:03<00:00, 259.31it/s, loss=0.236, v_num=2, val_loss=0.207, val_acc=0.941]\u001b[A\n",
      "Validation DataLoader 0: 100%|███████████████████████████████████████████████████████████████████████████████████████| 79/79 [00:00<00:00, 304.76it/s]\u001b[A\n",
      "Epoch 2: 100%|█████████████████████████████████████████████████| 939/939 [00:03<00:00, 260.21it/s, loss=0.236, v_num=2, val_loss=0.174, val_acc=0.949]\u001b[A\n",
      "Epoch 3:  92%|████████████████████████████████████████████▉    | 860/939 [00:03<00:00, 262.38it/s, loss=0.197, v_num=2, val_loss=0.174, val_acc=0.949]\u001b[A\n",
      "Validation: 0it [00:00, ?it/s]\u001b[A\n",
      "Validation:   0%|                                                                                                              | 0/79 [00:00<?, ?it/s]\u001b[A\n",
      "Validation DataLoader 0:   0%|                                                                                                 | 0/79 [00:00<?, ?it/s]\u001b[A\n",
      "Epoch 3:  94%|█████████████████████████████████████████████▉   | 880/939 [00:03<00:00, 262.31it/s, loss=0.197, v_num=2, val_loss=0.174, val_acc=0.949]\u001b[A\n",
      "Validation DataLoader 0:  51%|████████████████████████████████████████████                                           | 40/79 [00:00<00:00, 299.47it/s]\u001b[A\n",
      "Epoch 3:  96%|██████████████████████████████████████████████▉  | 900/939 [00:03<00:00, 263.26it/s, loss=0.197, v_num=2, val_loss=0.174, val_acc=0.949]\u001b[A\n",
      "Epoch 3:  98%|████████████████████████████████████████████████ | 920/939 [00:03<00:00, 263.33it/s, loss=0.197, v_num=2, val_loss=0.174, val_acc=0.949]\u001b[A\n",
      "Validation DataLoader 0: 100%|███████████████████████████████████████████████████████████████████████████████████████| 79/79 [00:00<00:00, 296.72it/s]\u001b[A\n",
      "Epoch 3: 100%|█████████████████████████████████████████████████| 939/939 [00:03<00:00, 264.28it/s, loss=0.197, v_num=2, val_loss=0.148, val_acc=0.956]\u001b[A\n",
      "Epoch 4:  92%|████████████████████████████████████████████▉    | 860/939 [00:03<00:00, 274.18it/s, loss=0.191, v_num=2, val_loss=0.148, val_acc=0.956]\u001b[A\n",
      "Validation: 0it [00:00, ?it/s]\u001b[A\n",
      "Validation:   0%|                                                                                                              | 0/79 [00:00<?, ?it/s]\u001b[A\n",
      "Validation DataLoader 0:   0%|                                                                                                 | 0/79 [00:00<?, ?it/s]\u001b[A\n",
      "Epoch 4:  94%|█████████████████████████████████████████████▉   | 880/939 [00:03<00:00, 274.75it/s, loss=0.191, v_num=2, val_loss=0.148, val_acc=0.956]\u001b[A\n",
      "Validation DataLoader 0:  51%|████████████████████████████████████████████                                           | 40/79 [00:00<00:00, 324.62it/s]\u001b[A\n",
      "Epoch 4:  96%|██████████████████████████████████████████████▉  | 900/939 [00:03<00:00, 275.47it/s, loss=0.191, v_num=2, val_loss=0.148, val_acc=0.956]\u001b[A\n",
      "Epoch 4:  98%|████████████████████████████████████████████████ | 920/939 [00:03<00:00, 276.36it/s, loss=0.191, v_num=2, val_loss=0.148, val_acc=0.956]\u001b[A\n",
      "Validation DataLoader 0: 100%|███████████████████████████████████████████████████████████████████████████████████████| 79/79 [00:00<00:00, 327.27it/s]\u001b[A\n",
      "Epoch 4: 100%|█████████████████████████████████████████████████| 939/939 [00:03<00:00, 277.13it/s, loss=0.191, v_num=2, val_loss=0.132, val_acc=0.962]\u001b[A\n",
      "Epoch 4: 100%|█████████████████████████████████████████████████| 939/939 [00:03<00:00, 276.77it/s, loss=0.191, v_num=2, val_loss=0.132, val_acc=0.962]\u001b[A\n"
     ]
    }
   ],
   "source": [
    "model = LitMNIST()\n",
    "\n",
    "# logger : 훈련 체크포인트 / 하이퍼파라미터 / 검증 및 테스트 손실, 정확도 에폭 번호 테이블이 저장된 metrics.csv 파일 저장\n",
    "trainer = Trainer(\n",
    "    accelerator = \"auto\",\n",
    "    devices = 1 if torch.cuda.is_available() else None,\n",
    "    max_epochs =5,\n",
    "    callbacks = [TQDMProgressBar(refresh_rate=20)],\n",
    "    logger = CSVLogger(save_dir=\"logs/\"),\n",
    ")\n",
    "trainer.fit(model)"
   ]
  },
  {
   "cell_type": "code",
   "execution_count": 18,
   "id": "2e04f7ed",
   "metadata": {
    "ExecuteTime": {
     "end_time": "2022-06-21T09:45:09.433907Z",
     "start_time": "2022-06-21T09:45:08.911612Z"
    }
   },
   "outputs": [
    {
     "name": "stderr",
     "output_type": "stream",
     "text": [
      "Restoring states from the checkpoint path at logs/lightning_logs/version_2/checkpoints/epoch=4-step=4300.ckpt\n",
      "Loaded model weights from checkpoint at logs/lightning_logs/version_2/checkpoints/epoch=4-step=4300.ckpt\n",
      "/Users/why/opt/anaconda3/envs/torch/lib/python3.10/site-packages/pytorch_lightning/trainer/connectors/data_connector.py:240: PossibleUserWarning: The dataloader, test_dataloader 0, does not have many workers which may be a bottleneck. Consider increasing the value of the `num_workers` argument` (try 8 which is the number of cpus on this machine) in the `DataLoader` init to improve performance.\n",
      "  rank_zero_warn(\n"
     ]
    },
    {
     "name": "stdout",
     "output_type": "stream",
     "text": [
      "Testing DataLoader 0: 100%|████████████████████████████████████████████████████████████████████████████████████████| 157/157 [00:00<00:00, 326.56it/s]\n",
      "────────────────────────────────────────────────────────────────────────────────────────────────────────────────────────\n",
      "       Test metric             DataLoader 0\n",
      "────────────────────────────────────────────────────────────────────────────────────────────────────────────────────────\n",
      "        test_acc            0.9578999876976013\n",
      "        test_loss           0.13612741231918335\n",
      "────────────────────────────────────────────────────────────────────────────────────────────────────────────────────────\n"
     ]
    },
    {
     "data": {
      "text/plain": [
       "[{'test_loss': 0.13612741231918335, 'test_acc': 0.9578999876976013}]"
      ]
     },
     "execution_count": 18,
     "metadata": {},
     "output_type": "execute_result"
    }
   ],
   "source": [
    "# 저장된 체크포인트로 테스트\n",
    "trainer.test()"
   ]
  },
  {
   "cell_type": "code",
   "execution_count": 21,
   "id": "98c8f933",
   "metadata": {
    "ExecuteTime": {
     "end_time": "2022-06-21T09:46:20.114348Z",
     "start_time": "2022-06-21T09:46:20.032195Z"
    }
   },
   "outputs": [
    {
     "name": "stderr",
     "output_type": "stream",
     "text": [
      "\n",
      "  | Name          | Type       | Params\n",
      "---------------------------------------------\n",
      "0 | model         | Sequential | 55.1 K\n",
      "1 | val_accuracy  | Accuracy   | 0     \n",
      "2 | test_accuracy | Accuracy   | 0     \n",
      "---------------------------------------------\n",
      "55.1 K    Trainable params\n",
      "0         Non-trainable params\n",
      "55.1 K    Total params\n",
      "0.220     Total estimated model params size (MB)\n"
     ]
    },
    {
     "name": "stdout",
     "output_type": "stream",
     "text": [
      "                                                                                                                                                      \r"
     ]
    }
   ],
   "source": [
    "# 재훈련\n",
    "trainer.fit(model)"
   ]
  },
  {
   "cell_type": "code",
   "execution_count": 22,
   "id": "3a56735d",
   "metadata": {
    "ExecuteTime": {
     "end_time": "2022-06-21T09:47:56.998004Z",
     "start_time": "2022-06-21T09:47:56.805022Z"
    }
   },
   "outputs": [
    {
     "data": {
      "text/html": [
       "<div>\n",
       "<style scoped>\n",
       "    .dataframe tbody tr th:only-of-type {\n",
       "        vertical-align: middle;\n",
       "    }\n",
       "\n",
       "    .dataframe tbody tr th {\n",
       "        vertical-align: top;\n",
       "    }\n",
       "\n",
       "    .dataframe thead th {\n",
       "        text-align: right;\n",
       "    }\n",
       "</style>\n",
       "<table border=\"1\" class=\"dataframe\">\n",
       "  <thead>\n",
       "    <tr style=\"text-align: right;\">\n",
       "      <th></th>\n",
       "      <th>val_loss</th>\n",
       "      <th>val_acc</th>\n",
       "      <th>test_loss</th>\n",
       "      <th>test_acc</th>\n",
       "    </tr>\n",
       "    <tr>\n",
       "      <th>epoch</th>\n",
       "      <th></th>\n",
       "      <th></th>\n",
       "      <th></th>\n",
       "      <th></th>\n",
       "    </tr>\n",
       "  </thead>\n",
       "  <tbody>\n",
       "    <tr>\n",
       "      <th>0</th>\n",
       "      <td>0.270251</td>\n",
       "      <td>0.9210</td>\n",
       "      <td>NaN</td>\n",
       "      <td>NaN</td>\n",
       "    </tr>\n",
       "    <tr>\n",
       "      <th>1</th>\n",
       "      <td>0.207145</td>\n",
       "      <td>0.9406</td>\n",
       "      <td>NaN</td>\n",
       "      <td>NaN</td>\n",
       "    </tr>\n",
       "    <tr>\n",
       "      <th>2</th>\n",
       "      <td>0.174022</td>\n",
       "      <td>0.9492</td>\n",
       "      <td>NaN</td>\n",
       "      <td>NaN</td>\n",
       "    </tr>\n",
       "    <tr>\n",
       "      <th>3</th>\n",
       "      <td>0.148001</td>\n",
       "      <td>0.9562</td>\n",
       "      <td>NaN</td>\n",
       "      <td>NaN</td>\n",
       "    </tr>\n",
       "    <tr>\n",
       "      <th>4</th>\n",
       "      <td>0.132203</td>\n",
       "      <td>0.9618</td>\n",
       "      <td>NaN</td>\n",
       "      <td>NaN</td>\n",
       "    </tr>\n",
       "  </tbody>\n",
       "</table>\n",
       "</div>"
      ],
      "text/plain": [
       "       val_loss  val_acc  test_loss  test_acc\n",
       "epoch                                        \n",
       "0      0.270251   0.9210        NaN       NaN\n",
       "1      0.207145   0.9406        NaN       NaN\n",
       "2      0.174022   0.9492        NaN       NaN\n",
       "3      0.148001   0.9562        NaN       NaN\n",
       "4      0.132203   0.9618        NaN       NaN"
      ]
     },
     "metadata": {},
     "output_type": "display_data"
    },
    {
     "data": {
      "text/plain": [
       "<seaborn.axisgrid.FacetGrid at 0x17fb7e1d0>"
      ]
     },
     "execution_count": 22,
     "metadata": {},
     "output_type": "execute_result"
    },
    {
     "data": {
      "image/png": "[encoded data removed]",
      "text/plain": [
       "<Figure size 439.5x360 with 1 Axes>"
      ]
     },
     "metadata": {
      "needs_background": "light"
     },
     "output_type": "display_data"
    }
   ],
   "source": [
    "# 시각화 : 저장된 검증 및 테스트 결과인 metrics.csv로 시각화\n",
    "metrics = pd.read_csv(f\"{trainer.logger.log_dir}/metrics.csv\")\n",
    "del metrics[\"step\"]\n",
    "metrics.set_index(\"epoch\", inplace=True)\n",
    "display(metrics.dropna(axis=1, how=\"all\").head())\n",
    "sn.relplot(data=metrics, kind=\"line\")"
   ]
  }
 ],
 "metadata": {
  "kernelspec": {
   "display_name": "Python 3 (ipykernel)",
   "language": "python",
   "name": "python3"
  },
  "language_info": {
   "codemirror_mode": {
    "name": "ipython",
    "version": 3
   },
   "file_extension": ".py",
   "mimetype": "text/x-python",
   "name": "python",
   "nbconvert_exporter": "python",
   "pygments_lexer": "ipython3",
   "version": "3.10.5"
  },
  "latex_envs": {
   "LaTeX_envs_menu_present": true,
   "autoclose": false,
   "autocomplete": true,
   "bibliofile": "biblio.bib",
   "cite_by": "apalike",
   "current_citInitial": 1,
   "eqLabelWithNumbers": true,
   "eqNumInitial": 1,
   "hotkeys": {
    "equation": "Ctrl-E",
    "itemize": "Ctrl-I"
   },
   "labels_anchors": false,
   "latex_user_defs": false,
   "report_style_numbering": false,
   "user_envs_cfg": false
  },
  "toc": {
   "base_numbering": 1,
   "nav_menu": {},
   "number_sections": true,
   "sideBar": true,
   "skip_h1_title": false,
   "title_cell": "Table of Contents",
   "title_sidebar": "Contents",
   "toc_cell": false,
   "toc_position": {},
   "toc_section_display": true,
   "toc_window_display": true
  }
 },
 "nbformat": 4,
 "nbformat_minor": 5
}
